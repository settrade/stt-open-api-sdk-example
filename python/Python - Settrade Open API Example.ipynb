{
 "cells": [
  {
   "cell_type": "code",
   "execution_count": 18,
   "metadata": {},
   "outputs": [],
   "source": [
    "import settrade.openapi\n",
    "from settrade.openapi import Investor"
   ]
  },
  {
   "cell_type": "code",
   "execution_count": 19,
   "metadata": {},
   "outputs": [],
   "source": [
    "############################# login #############################\n",
    "investor = Investor(\n",
    "    app_id=\"8uuaMP1npccDixrg\",    \n",
    "    app_secret=\"APX6wnqzk/yoVLIRyQ4ps4Fm13uzbC4tL5nyjAwwCKue\",\n",
    "    app_code=\"SANDBOX\",\n",
    "    broker_id=\"SANDBOX\",\n",
    "    is_auto_queue=False)"
   ]
  },
  {
   "cell_type": "code",
   "execution_count": 20,
   "metadata": {},
   "outputs": [],
   "source": [
    "############################# Derivative #############################\n",
    "deri = investor.Derivatives(account_no = \"settrade-D\")"
   ]
  },
  {
   "cell_type": "code",
   "execution_count": 21,
   "metadata": {},
   "outputs": [
    {
     "data": {
      "text/plain": [
       "{'success': True,\n",
       " 'status_code': 200,\n",
       " 'data': {'order_no': 46374},\n",
       " 'message': ''}"
      ]
     },
     "execution_count": 21,
     "metadata": {},
     "output_type": "execute_result"
    }
   ],
   "source": [
    "deri.place_order(symbol=\"S50M22\",\n",
    "    price=950,\n",
    "    volume=13,\n",
    "    side=\"SHORT\",\n",
    "    position=\"AUTO\",\n",
    "    pin=\"000000\", \n",
    "    price_type=\"LIMIT\",\n",
    "    validity_type=\"GOOD_TILL_DAY\")"
   ]
  },
  {
   "cell_type": "code",
   "execution_count": 22,
   "metadata": {},
   "outputs": [],
   "source": [
    "############################# Equity #############################"
   ]
  },
  {
   "cell_type": "code",
   "execution_count": 23,
   "metadata": {},
   "outputs": [],
   "source": [
    "equity = investor.Equity(account_no=\"settrade-E\")"
   ]
  },
  {
   "cell_type": "code",
   "execution_count": 24,
   "metadata": {
    "scrolled": false
   },
   "outputs": [
    {
     "data": {
      "text/plain": [
       "{'success': True,\n",
       " 'status_code': 200,\n",
       " 'data': {'order_no': '3HVY601IFL'},\n",
       " 'message': ''}"
      ]
     },
     "execution_count": 24,
     "metadata": {},
     "output_type": "execute_result"
    }
   ],
   "source": [
    "equity.place_order(\n",
    "    symbol=\"PTT\",\n",
    "    price=38,\n",
    "    volume=100,\n",
    "    side=\"BUY\",\n",
    "    pin=\"000000\")"
   ]
  },
  {
   "cell_type": "code",
   "execution_count": null,
   "metadata": {},
   "outputs": [],
   "source": []
  }
 ],
 "metadata": {
  "kernelspec": {
   "display_name": "Python 3",
   "language": "python",
   "name": "python3"
  },
  "language_info": {
   "codemirror_mode": {
    "name": "ipython",
    "version": 3
   },
   "file_extension": ".py",
   "mimetype": "text/x-python",
   "name": "python",
   "nbconvert_exporter": "python",
   "pygments_lexer": "ipython3",
   "version": "3.8.5"
  }
 },
 "nbformat": 4,
 "nbformat_minor": 4
}
